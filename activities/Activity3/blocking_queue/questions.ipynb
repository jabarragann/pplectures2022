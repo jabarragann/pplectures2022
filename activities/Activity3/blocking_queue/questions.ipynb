{
 "cells": [
  {
   "cell_type": "code",
   "execution_count": null,
   "metadata": {},
   "outputs": [],
   "source": []
  },
  {
   "cell_type": "markdown",
   "metadata": {},
   "source": [
    "1. When many producer threads are waiting on a full queue, what happens when a thread `takes` a String and calls `notifyAll()`? Why is this thread safe?\n",
    "\n",
    "2. Read the documentation for sychronized methods. Do synchronized methods synchronize on the object or the class? Why is this the right scope? (Consider that there may be multiple queues in an application.)\n",
    "\n",
    "3. One might want the String copy operations to proceed in parallel because they are expensive (see below). This is not thread safe. Why? Give an example."
   ]
  }
 ],
 "metadata": {
  "language_info": {
   "name": "python"
  },
  "orig_nbformat": 4
 },
 "nbformat": 4,
 "nbformat_minor": 2
}
