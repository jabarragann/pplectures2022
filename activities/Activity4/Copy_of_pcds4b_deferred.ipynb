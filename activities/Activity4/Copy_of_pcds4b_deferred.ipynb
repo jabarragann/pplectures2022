{
  "nbformat": 4,
  "nbformat_minor": 0,
  "metadata": {
    "kernelspec": {
      "display_name": "Python 3",
      "language": "python",
      "name": "python3"
    },
    "language_info": {
      "codemirror_mode": {
        "name": "ipython",
        "version": 3
      },
      "file_extension": ".py",
      "mimetype": "text/x-python",
      "name": "python",
      "nbconvert_exporter": "python",
      "pygments_lexer": "ipython3",
      "version": "3.7.3"
    },
    "colab": {
      "provenance": [],
      "collapsed_sections": []
    }
  },
  "cells": [
    {
      "cell_type": "markdown",
      "metadata": {
        "id": "UHPtaA6QbycI"
      },
      "source": [
        "## dask <code>compute()</code> Deferred Computing\n",
        "\n",
        "We're going to build a somewhat interesting workload and then run it a couple of different ways.  Let's start by loading the NYC flight data.\n",
        "\n",
        "This exercise will reinforce dask dataframe programming concepts by building a set of analyses. We will then use these type of `groupby` and aggregate queries to look at execution properties.\n",
        "\n",
        "Code that you need to write is indicated with #TODO. I've left the output of the reference implementation in the cells so that you can refer to it for correctness.  You can refer to the read-only shared version for this output."
      ]
    },
    {
      "cell_type": "code",
      "metadata": {
        "id": "ecbH137mb3zh",
        "colab": {
          "base_uri": "https://localhost:8080/"
        },
        "outputId": "a4dcb658-6cb1-466d-c3a4-e9e8e79aa9b5"
      },
      "source": [
        "%pip install fsspec\n",
        "%pip install gcsfs"
      ],
      "execution_count": 1,
      "outputs": [
        {
          "output_type": "stream",
          "name": "stdout",
          "text": [
            "Looking in indexes: https://pypi.org/simple, https://us-python.pkg.dev/colab-wheels/public/simple/\n",
            "Requirement already satisfied: fsspec in /usr/local/lib/python3.7/dist-packages (2022.10.0)\n",
            "Looking in indexes: https://pypi.org/simple, https://us-python.pkg.dev/colab-wheels/public/simple/\n",
            "Collecting gcsfs\n",
            "  Downloading gcsfs-2022.10.0-py2.py3-none-any.whl (25 kB)\n",
            "Requirement already satisfied: google-auth-oauthlib in /usr/local/lib/python3.7/dist-packages (from gcsfs) (0.4.6)\n",
            "Requirement already satisfied: google-cloud-storage in /usr/local/lib/python3.7/dist-packages (from gcsfs) (1.18.1)\n",
            "Requirement already satisfied: decorator>4.1.2 in /usr/local/lib/python3.7/dist-packages (from gcsfs) (4.4.2)\n",
            "Requirement already satisfied: aiohttp!=4.0.0a0,!=4.0.0a1 in /usr/local/lib/python3.7/dist-packages (from gcsfs) (3.8.3)\n",
            "Requirement already satisfied: google-auth>=1.2 in /usr/local/lib/python3.7/dist-packages (from gcsfs) (1.35.0)\n",
            "Requirement already satisfied: requests in /usr/local/lib/python3.7/dist-packages (from gcsfs) (2.23.0)\n",
            "Requirement already satisfied: fsspec==2022.10.0 in /usr/local/lib/python3.7/dist-packages (from gcsfs) (2022.10.0)\n",
            "Requirement already satisfied: frozenlist>=1.1.1 in /usr/local/lib/python3.7/dist-packages (from aiohttp!=4.0.0a0,!=4.0.0a1->gcsfs) (1.3.1)\n",
            "Requirement already satisfied: charset-normalizer<3.0,>=2.0 in /usr/local/lib/python3.7/dist-packages (from aiohttp!=4.0.0a0,!=4.0.0a1->gcsfs) (2.1.1)\n",
            "Requirement already satisfied: multidict<7.0,>=4.5 in /usr/local/lib/python3.7/dist-packages (from aiohttp!=4.0.0a0,!=4.0.0a1->gcsfs) (6.0.2)\n",
            "Requirement already satisfied: attrs>=17.3.0 in /usr/local/lib/python3.7/dist-packages (from aiohttp!=4.0.0a0,!=4.0.0a1->gcsfs) (22.1.0)\n",
            "Requirement already satisfied: typing-extensions>=3.7.4 in /usr/local/lib/python3.7/dist-packages (from aiohttp!=4.0.0a0,!=4.0.0a1->gcsfs) (4.1.1)\n",
            "Requirement already satisfied: yarl<2.0,>=1.0 in /usr/local/lib/python3.7/dist-packages (from aiohttp!=4.0.0a0,!=4.0.0a1->gcsfs) (1.8.1)\n",
            "Requirement already satisfied: async-timeout<5.0,>=4.0.0a3 in /usr/local/lib/python3.7/dist-packages (from aiohttp!=4.0.0a0,!=4.0.0a1->gcsfs) (4.0.2)\n",
            "Requirement already satisfied: asynctest==0.13.0 in /usr/local/lib/python3.7/dist-packages (from aiohttp!=4.0.0a0,!=4.0.0a1->gcsfs) (0.13.0)\n",
            "Requirement already satisfied: aiosignal>=1.1.2 in /usr/local/lib/python3.7/dist-packages (from aiohttp!=4.0.0a0,!=4.0.0a1->gcsfs) (1.2.0)\n",
            "Requirement already satisfied: cachetools<5.0,>=2.0.0 in /usr/local/lib/python3.7/dist-packages (from google-auth>=1.2->gcsfs) (4.2.4)\n",
            "Requirement already satisfied: six>=1.9.0 in /usr/local/lib/python3.7/dist-packages (from google-auth>=1.2->gcsfs) (1.15.0)\n",
            "Requirement already satisfied: setuptools>=40.3.0 in /usr/local/lib/python3.7/dist-packages (from google-auth>=1.2->gcsfs) (57.4.0)\n",
            "Requirement already satisfied: pyasn1-modules>=0.2.1 in /usr/local/lib/python3.7/dist-packages (from google-auth>=1.2->gcsfs) (0.2.8)\n",
            "Requirement already satisfied: rsa<5,>=3.1.4 in /usr/local/lib/python3.7/dist-packages (from google-auth>=1.2->gcsfs) (4.9)\n",
            "Requirement already satisfied: pyasn1<0.5.0,>=0.4.6 in /usr/local/lib/python3.7/dist-packages (from pyasn1-modules>=0.2.1->google-auth>=1.2->gcsfs) (0.4.8)\n",
            "Requirement already satisfied: idna>=2.0 in /usr/local/lib/python3.7/dist-packages (from yarl<2.0,>=1.0->aiohttp!=4.0.0a0,!=4.0.0a1->gcsfs) (2.10)\n",
            "Requirement already satisfied: requests-oauthlib>=0.7.0 in /usr/local/lib/python3.7/dist-packages (from google-auth-oauthlib->gcsfs) (1.3.1)\n",
            "Requirement already satisfied: oauthlib>=3.0.0 in /usr/local/lib/python3.7/dist-packages (from requests-oauthlib>=0.7.0->google-auth-oauthlib->gcsfs) (3.2.2)\n",
            "Requirement already satisfied: certifi>=2017.4.17 in /usr/local/lib/python3.7/dist-packages (from requests->gcsfs) (2022.9.24)\n",
            "Requirement already satisfied: chardet<4,>=3.0.2 in /usr/local/lib/python3.7/dist-packages (from requests->gcsfs) (3.0.4)\n",
            "Requirement already satisfied: urllib3!=1.25.0,!=1.25.1,<1.26,>=1.21.1 in /usr/local/lib/python3.7/dist-packages (from requests->gcsfs) (1.24.3)\n",
            "Requirement already satisfied: google-cloud-core<2.0dev,>=1.0.0 in /usr/local/lib/python3.7/dist-packages (from google-cloud-storage->gcsfs) (1.0.3)\n",
            "Requirement already satisfied: google-resumable-media<0.5.0dev,>=0.3.1 in /usr/local/lib/python3.7/dist-packages (from google-cloud-storage->gcsfs) (0.4.1)\n",
            "Requirement already satisfied: google-api-core<2.0.0dev,>=1.14.0 in /usr/local/lib/python3.7/dist-packages (from google-cloud-core<2.0dev,>=1.0.0->google-cloud-storage->gcsfs) (1.31.6)\n",
            "Requirement already satisfied: pytz in /usr/local/lib/python3.7/dist-packages (from google-api-core<2.0.0dev,>=1.14.0->google-cloud-core<2.0dev,>=1.0.0->google-cloud-storage->gcsfs) (2022.6)\n",
            "Requirement already satisfied: packaging>=14.3 in /usr/local/lib/python3.7/dist-packages (from google-api-core<2.0.0dev,>=1.14.0->google-cloud-core<2.0dev,>=1.0.0->google-cloud-storage->gcsfs) (21.3)\n",
            "Requirement already satisfied: googleapis-common-protos<2.0dev,>=1.6.0 in /usr/local/lib/python3.7/dist-packages (from google-api-core<2.0.0dev,>=1.14.0->google-cloud-core<2.0dev,>=1.0.0->google-cloud-storage->gcsfs) (1.56.4)\n",
            "Requirement already satisfied: protobuf<4.0.0dev,>=3.12.0 in /usr/local/lib/python3.7/dist-packages (from google-api-core<2.0.0dev,>=1.14.0->google-cloud-core<2.0dev,>=1.0.0->google-cloud-storage->gcsfs) (3.17.3)\n",
            "Requirement already satisfied: pyparsing!=3.0.5,>=2.0.2 in /usr/local/lib/python3.7/dist-packages (from packaging>=14.3->google-api-core<2.0.0dev,>=1.14.0->google-cloud-core<2.0dev,>=1.0.0->google-cloud-storage->gcsfs) (3.0.9)\n",
            "Installing collected packages: gcsfs\n",
            "Successfully installed gcsfs-2022.10.0\n"
          ]
        }
      ]
    },
    {
      "cell_type": "markdown",
      "metadata": {
        "id": "2ynzaF1Duo7K"
      },
      "source": [
        "Read in the NYC Flights data from Google cloud storage and then print the dataframe metadata."
      ]
    },
    {
      "cell_type": "code",
      "metadata": {
        "id": "zRuqHz41bycJ",
        "colab": {
          "base_uri": "https://localhost:8080/",
          "height": 292
        },
        "outputId": "2d3eae26-5e0d-41ff-b780-834c862ae3a2"
      },
      "source": [
        "import dask.dataframe as dd\n",
        "\n",
        "df = dd.read_csv('gcs://nycflights/*.csv',\n",
        "                 storage_options={'token': 'anon'},\n",
        "                 parse_dates={'Date': [0, 1, 2]},\n",
        "                 dtype={'TailNum': str,\n",
        "                        'CRSElapsedTime': float,\n",
        "                        'Cancelled': bool})\n",
        "df"
      ],
      "execution_count": 2,
      "outputs": [
        {
          "output_type": "execute_result",
          "data": {
            "text/plain": [
              "Dask DataFrame Structure:\n",
              "                          Date DayOfWeek  DepTime CRSDepTime  ArrTime CRSArrTime UniqueCarrier FlightNum TailNum ActualElapsedTime CRSElapsedTime  AirTime ArrDelay DepDelay  Origin    Dest Distance   TaxiIn  TaxiOut Cancelled Diverted\n",
              "npartitions=10                                                                                                                                                                                                                            \n",
              "                datetime64[ns]     int64  float64      int64  float64      int64        object     int64  object           float64        float64  float64  float64  float64  object  object  float64  float64  float64      bool    int64\n",
              "                           ...       ...      ...        ...      ...        ...           ...       ...     ...               ...            ...      ...      ...      ...     ...     ...      ...      ...      ...       ...      ...\n",
              "...                        ...       ...      ...        ...      ...        ...           ...       ...     ...               ...            ...      ...      ...      ...     ...     ...      ...      ...      ...       ...      ...\n",
              "                           ...       ...      ...        ...      ...        ...           ...       ...     ...               ...            ...      ...      ...      ...     ...     ...      ...      ...      ...       ...      ...\n",
              "                           ...       ...      ...        ...      ...        ...           ...       ...     ...               ...            ...      ...      ...      ...     ...     ...      ...      ...      ...       ...      ...\n",
              "Dask Name: read-csv, 10 tasks"
            ],
            "text/html": [
              "<div><strong>Dask DataFrame Structure:</strong></div>\n",
              "<div>\n",
              "<style scoped>\n",
              "    .dataframe tbody tr th:only-of-type {\n",
              "        vertical-align: middle;\n",
              "    }\n",
              "\n",
              "    .dataframe tbody tr th {\n",
              "        vertical-align: top;\n",
              "    }\n",
              "\n",
              "    .dataframe thead th {\n",
              "        text-align: right;\n",
              "    }\n",
              "</style>\n",
              "<table border=\"1\" class=\"dataframe\">\n",
              "  <thead>\n",
              "    <tr style=\"text-align: right;\">\n",
              "      <th></th>\n",
              "      <th>Date</th>\n",
              "      <th>DayOfWeek</th>\n",
              "      <th>DepTime</th>\n",
              "      <th>CRSDepTime</th>\n",
              "      <th>ArrTime</th>\n",
              "      <th>CRSArrTime</th>\n",
              "      <th>UniqueCarrier</th>\n",
              "      <th>FlightNum</th>\n",
              "      <th>TailNum</th>\n",
              "      <th>ActualElapsedTime</th>\n",
              "      <th>CRSElapsedTime</th>\n",
              "      <th>AirTime</th>\n",
              "      <th>ArrDelay</th>\n",
              "      <th>DepDelay</th>\n",
              "      <th>Origin</th>\n",
              "      <th>Dest</th>\n",
              "      <th>Distance</th>\n",
              "      <th>TaxiIn</th>\n",
              "      <th>TaxiOut</th>\n",
              "      <th>Cancelled</th>\n",
              "      <th>Diverted</th>\n",
              "    </tr>\n",
              "    <tr>\n",
              "      <th>npartitions=10</th>\n",
              "      <th></th>\n",
              "      <th></th>\n",
              "      <th></th>\n",
              "      <th></th>\n",
              "      <th></th>\n",
              "      <th></th>\n",
              "      <th></th>\n",
              "      <th></th>\n",
              "      <th></th>\n",
              "      <th></th>\n",
              "      <th></th>\n",
              "      <th></th>\n",
              "      <th></th>\n",
              "      <th></th>\n",
              "      <th></th>\n",
              "      <th></th>\n",
              "      <th></th>\n",
              "      <th></th>\n",
              "      <th></th>\n",
              "      <th></th>\n",
              "      <th></th>\n",
              "    </tr>\n",
              "  </thead>\n",
              "  <tbody>\n",
              "    <tr>\n",
              "      <th></th>\n",
              "      <td>datetime64[ns]</td>\n",
              "      <td>int64</td>\n",
              "      <td>float64</td>\n",
              "      <td>int64</td>\n",
              "      <td>float64</td>\n",
              "      <td>int64</td>\n",
              "      <td>object</td>\n",
              "      <td>int64</td>\n",
              "      <td>object</td>\n",
              "      <td>float64</td>\n",
              "      <td>float64</td>\n",
              "      <td>float64</td>\n",
              "      <td>float64</td>\n",
              "      <td>float64</td>\n",
              "      <td>object</td>\n",
              "      <td>object</td>\n",
              "      <td>float64</td>\n",
              "      <td>float64</td>\n",
              "      <td>float64</td>\n",
              "      <td>bool</td>\n",
              "      <td>int64</td>\n",
              "    </tr>\n",
              "    <tr>\n",
              "      <th></th>\n",
              "      <td>...</td>\n",
              "      <td>...</td>\n",
              "      <td>...</td>\n",
              "      <td>...</td>\n",
              "      <td>...</td>\n",
              "      <td>...</td>\n",
              "      <td>...</td>\n",
              "      <td>...</td>\n",
              "      <td>...</td>\n",
              "      <td>...</td>\n",
              "      <td>...</td>\n",
              "      <td>...</td>\n",
              "      <td>...</td>\n",
              "      <td>...</td>\n",
              "      <td>...</td>\n",
              "      <td>...</td>\n",
              "      <td>...</td>\n",
              "      <td>...</td>\n",
              "      <td>...</td>\n",
              "      <td>...</td>\n",
              "      <td>...</td>\n",
              "    </tr>\n",
              "    <tr>\n",
              "      <th>...</th>\n",
              "      <td>...</td>\n",
              "      <td>...</td>\n",
              "      <td>...</td>\n",
              "      <td>...</td>\n",
              "      <td>...</td>\n",
              "      <td>...</td>\n",
              "      <td>...</td>\n",
              "      <td>...</td>\n",
              "      <td>...</td>\n",
              "      <td>...</td>\n",
              "      <td>...</td>\n",
              "      <td>...</td>\n",
              "      <td>...</td>\n",
              "      <td>...</td>\n",
              "      <td>...</td>\n",
              "      <td>...</td>\n",
              "      <td>...</td>\n",
              "      <td>...</td>\n",
              "      <td>...</td>\n",
              "      <td>...</td>\n",
              "      <td>...</td>\n",
              "    </tr>\n",
              "    <tr>\n",
              "      <th></th>\n",
              "      <td>...</td>\n",
              "      <td>...</td>\n",
              "      <td>...</td>\n",
              "      <td>...</td>\n",
              "      <td>...</td>\n",
              "      <td>...</td>\n",
              "      <td>...</td>\n",
              "      <td>...</td>\n",
              "      <td>...</td>\n",
              "      <td>...</td>\n",
              "      <td>...</td>\n",
              "      <td>...</td>\n",
              "      <td>...</td>\n",
              "      <td>...</td>\n",
              "      <td>...</td>\n",
              "      <td>...</td>\n",
              "      <td>...</td>\n",
              "      <td>...</td>\n",
              "      <td>...</td>\n",
              "      <td>...</td>\n",
              "      <td>...</td>\n",
              "    </tr>\n",
              "    <tr>\n",
              "      <th></th>\n",
              "      <td>...</td>\n",
              "      <td>...</td>\n",
              "      <td>...</td>\n",
              "      <td>...</td>\n",
              "      <td>...</td>\n",
              "      <td>...</td>\n",
              "      <td>...</td>\n",
              "      <td>...</td>\n",
              "      <td>...</td>\n",
              "      <td>...</td>\n",
              "      <td>...</td>\n",
              "      <td>...</td>\n",
              "      <td>...</td>\n",
              "      <td>...</td>\n",
              "      <td>...</td>\n",
              "      <td>...</td>\n",
              "      <td>...</td>\n",
              "      <td>...</td>\n",
              "      <td>...</td>\n",
              "      <td>...</td>\n",
              "      <td>...</td>\n",
              "    </tr>\n",
              "  </tbody>\n",
              "</table>\n",
              "</div>\n",
              "<div>Dask Name: read-csv, 10 tasks</div>"
            ]
          },
          "metadata": {},
          "execution_count": 2
        }
      ]
    },
    {
      "cell_type": "markdown",
      "metadata": {
        "id": "PMA9jq_hbycN"
      },
      "source": [
        "Let's build a set of queries around the performance of particular planes, identified by tail number.  The pattern will be to <code>groupby('TailNum') and then compute statistics.\n",
        "\n",
        "__Query__: What is the average departure delay 'DepDelay' for each plane?"
      ]
    },
    {
      "cell_type": "code",
      "metadata": {
        "id": "oj9dXHzWbycO",
        "colab": {
          "base_uri": "https://localhost:8080/"
        },
        "outputId": "801e317a-3eef-4919-e1a2-fa5f0cb5f422"
      },
      "source": [
        "#TODO\n",
        "df_delay = df.groupby('TailNum')['DepDelay'].mean()\n",
        "delay = df_delay.compute()\n",
        "print(delay.max())\n",
        "delay"
      ],
      "execution_count": 16,
      "outputs": [
        {
          "output_type": "stream",
          "name": "stdout",
          "text": [
            "241.0\n"
          ]
        },
        {
          "output_type": "execute_result",
          "data": {
            "text/plain": [
              "TailNum\n",
              "EI-BWD    11.213501\n",
              "EI-CAL    23.846154\n",
              "EI-CAM    26.611511\n",
              "EI-CIW    12.918182\n",
              "N050AA     9.180180\n",
              "            ...    \n",
              "N976TW    -2.294118\n",
              "N978TW     0.000000\n",
              "N979TW     5.250000\n",
              "N980TW     3.428571\n",
              "N982TW    14.000000\n",
              "Name: DepDelay, Length: 3712, dtype: float64"
            ]
          },
          "metadata": {},
          "execution_count": 16
        }
      ]
    },
    {
      "cell_type": "markdown",
      "metadata": {
        "id": "VX_4SPX5bycR"
      },
      "source": [
        "Interesting, some planes were early, lets plot a histrogram of the distribution with 1000 bins."
      ]
    },
    {
      "cell_type": "code",
      "metadata": {
        "id": "PImy_enebycS",
        "colab": {
          "base_uri": "https://localhost:8080/",
          "height": 320
        },
        "outputId": "bb7bd885-5e8d-40a0-ee99-53a968768de2"
      },
      "source": [
        "import seaborn as sns\n",
        "import dask.array as da\n",
        "import matplotlib.pyplot as plt\n",
        "\n",
        "%matplotlib inline\n",
        "h, bins = da.histogram(df_delay, bins=1000,range=[0,50])\n",
        "n, bins, patches = plt.hist(h, bins, facecolor='blue', alpha=0.5)\n",
        "plt.show()\n"
      ],
      "execution_count": 20,
      "outputs": [
        {
          "output_type": "stream",
          "name": "stderr",
          "text": [
            "/usr/local/lib/python3.7/dist-packages/dask/array/core.py:1645: FutureWarning: The `numpy.size` function is not implemented by Dask array. You may want to use the da.map_blocks function or something similar to silence this warning. Your code may stop working in a future release.\n",
            "  FutureWarning,\n"
          ]
        },
        {
          "output_type": "display_data",
          "data": {
            "text/plain": [
              "<Figure size 432x288 with 1 Axes>"
            ],
            "image/png": "[encoded data removed]"
          },
          "metadata": {
            "needs_background": "light"
          }
        }
      ]
    },
    {
      "cell_type": "markdown",
      "metadata": {
        "id": "5XRyPc7gbycW"
      },
      "source": [
        "OK, we have very few chronically bad planes.  Let's find those that are 30 (or more) minutes late on average."
      ]
    },
    {
      "cell_type": "code",
      "metadata": {
        "id": "X2AGAd6XbycX",
        "colab": {
          "base_uri": "https://localhost:8080/"
        },
        "outputId": "568f207d-6725-4ade-d40a-a8a7c867c7a8"
      },
      "source": [
        "import numpy as np \n",
        "lateplanes = delay.loc[lambda x : x > 30].index.to_numpy()\n",
        "\n",
        "\n",
        "print(np.sort(lateplanes))"
      ],
      "execution_count": 31,
      "outputs": [
        {
          "output_type": "stream",
          "name": "stdout",
          "text": [
            "['N101UW' 'N102UW' 'N104UW' 'N106UW' 'N133JC' 'N133TW' 'N134TW' 'N14249'\n",
            " 'N144JC' 'N147US' 'N151AW' 'N151UA' 'N152UA' 'N153US' 'N154AA' 'N154AW'\n",
            " 'N155US' 'N156AW' 'N158AW' 'N161US' 'N168AW' 'N169AW' 'N17010' 'N17011'\n",
            " 'N1738D' 'N1739D' 'N174AW' 'N174GM' 'N174UA' 'N175UA' 'N17789' 'N1854U'\n",
            " 'N195UA' 'N199UA' 'N224DA' 'N224NW' 'N225NW' 'N235NW' 'N303TW' 'N304AW'\n",
            " 'N305AW' 'N305TW' 'N307TW' 'N322AW' 'N328AW' 'N33021' 'N3310L' 'N331AW'\n",
            " 'N375DA' 'N376DL' 'N379DL' 'N382DA' 'N53110' 'N53116' 'N534TW' 'N6700'\n",
            " 'N701UW' 'N706UW' 'N708UW' 'N713DA' 'N713UW' 'N716DA' 'N719DA' 'N724DA'\n",
            " 'N727UW' 'N733DS' 'N735D' 'N737D' 'N760DH' 'N78019' 'N787DL' 'N789DL'\n",
            " 'N802DE' 'N805DE' 'N817AA' 'N8911E' 'N93104' 'N93107' 'N93108' 'N93109'\n",
            " 'N93119' 'N96S' 'N971Z' 'N976UA' 'N993UA' 'NEIDLA' 'UNKNOW']\n"
          ]
        }
      ]
    },
    {
      "cell_type": "markdown",
      "metadata": {
        "id": "dLm2yoDEbycZ"
      },
      "source": [
        "OK, this is a hard query.\n",
        "Build a dataframe that is a subset all the data associated with the late planes.  There are many ways to solve this problem. I would recommend looking at the `isin()` function in dask."
      ]
    },
    {
      "cell_type": "code",
      "metadata": {
        "id": "bXdqGUczbyca",
        "colab": {
          "base_uri": "https://localhost:8080/",
          "height": 641
        },
        "outputId": "d562d6e5-1ef3-41d0-b376-5757c8f7092c"
      },
      "source": [
        "df_late = df.loc[df['TailNum'].isin(lateplanes),:]\n",
        "df_late"
      ],
      "execution_count": 34,
      "outputs": [
        {
          "output_type": "execute_result",
          "data": {
            "text/plain": [
              "             Date  DayOfWeek  DepTime  CRSDepTime  ArrTime  CRSArrTime  \\\n",
              "8      1995-01-09          1      NaN        1950      NaN        2337   \n",
              "39     1995-01-18          3      NaN        1640      NaN        2002   \n",
              "248    1995-01-11          3      NaN        1815      NaN        2202   \n",
              "276    1995-01-09          1      NaN        1900      NaN        2042   \n",
              "285    1995-01-09          1      NaN        1500      NaN        1634   \n",
              "...           ...        ...      ...         ...      ...         ...   \n",
              "268926 1999-12-20          1      NaN        1846      NaN        2103   \n",
              "269031 1999-12-16          4      NaN         615      NaN         829   \n",
              "269093 1999-12-14          2      NaN        1650      NaN        1906   \n",
              "269153 1999-12-17          5      NaN        1400      NaN        1613   \n",
              "269154 1999-12-20          1      NaN        1400      NaN        1613   \n",
              "\n",
              "       UniqueCarrier  FlightNum TailNum  ActualElapsedTime  ...  AirTime  \\\n",
              "8                 CO        401  UNKNOW                NaN  ...     42.0   \n",
              "39                CO        446  UNKNOW                NaN  ...     56.0   \n",
              "248               TW        731  UNKNOW                NaN  ...    124.0   \n",
              "276               CO        633  UNKNOW                NaN  ...    134.0   \n",
              "285               CO        663  UNKNOW                NaN  ...    154.0   \n",
              "...              ...        ...     ...                ...  ...      ...   \n",
              "268926            UA       1609  UNKNOW                NaN  ...      NaN   \n",
              "269031            UA        401  UNKNOW                NaN  ...      NaN   \n",
              "269093            UA        785  UNKNOW                NaN  ...      NaN   \n",
              "269153            UA       1691  UNKNOW                NaN  ...      NaN   \n",
              "269154            UA       1691  UNKNOW                NaN  ...      NaN   \n",
              "\n",
              "        ArrDelay  DepDelay  Origin Dest Distance  TaxiIn  TaxiOut  Cancelled  \\\n",
              "8            NaN       NaN     EWR  PHX   2133.0     8.0     33.0       True   \n",
              "39           NaN       NaN     EWR  PHX   2133.0     6.0     20.0       True   \n",
              "248          NaN       NaN     JFK  PHX   2153.0    10.0     34.0       True   \n",
              "276          NaN       NaN     EWR  PIT    319.0     5.0     18.0       True   \n",
              "285          NaN       NaN     EWR  PIT    319.0     4.0     11.0       True   \n",
              "...          ...       ...     ...  ...      ...     ...      ...        ...   \n",
              "268926       NaN       NaN     EWR  DEN   1605.0     0.0      0.0       True   \n",
              "269031       NaN       NaN     LGA  DEN   1619.0     0.0      0.0       True   \n",
              "269093       NaN       NaN     LGA  DEN   1619.0     0.0      0.0       True   \n",
              "269153       NaN       NaN     LGA  DEN   1619.0     0.0      0.0       True   \n",
              "269154       NaN       NaN     LGA  DEN   1619.0     0.0      0.0       True   \n",
              "\n",
              "        Diverted  \n",
              "8              0  \n",
              "39             0  \n",
              "248            0  \n",
              "276            0  \n",
              "285            0  \n",
              "...          ...  \n",
              "268926         0  \n",
              "269031         0  \n",
              "269093         0  \n",
              "269153         0  \n",
              "269154         0  \n",
              "\n",
              "[36339 rows x 21 columns]"
            ],
            "text/html": [
              "\n",
              "  <div id=\"df-55a1580a-03c3-444e-8536-58be71f4d026\">\n",
              "    <div class=\"colab-df-container\">\n",
              "      <div>\n",
              "<style scoped>\n",
              "    .dataframe tbody tr th:only-of-type {\n",
              "        vertical-align: middle;\n",
              "    }\n",
              "\n",
              "    .dataframe tbody tr th {\n",
              "        vertical-align: top;\n",
              "    }\n",
              "\n",
              "    .dataframe thead th {\n",
              "        text-align: right;\n",
              "    }\n",
              "</style>\n",
              "<table border=\"1\" class=\"dataframe\">\n",
              "  <thead>\n",
              "    <tr style=\"text-align: right;\">\n",
              "      <th></th>\n",
              "      <th>Date</th>\n",
              "      <th>DayOfWeek</th>\n",
              "      <th>DepTime</th>\n",
              "      <th>CRSDepTime</th>\n",
              "      <th>ArrTime</th>\n",
              "      <th>CRSArrTime</th>\n",
              "      <th>UniqueCarrier</th>\n",
              "      <th>FlightNum</th>\n",
              "      <th>TailNum</th>\n",
              "      <th>ActualElapsedTime</th>\n",
              "      <th>...</th>\n",
              "      <th>AirTime</th>\n",
              "      <th>ArrDelay</th>\n",
              "      <th>DepDelay</th>\n",
              "      <th>Origin</th>\n",
              "      <th>Dest</th>\n",
              "      <th>Distance</th>\n",
              "      <th>TaxiIn</th>\n",
              "      <th>TaxiOut</th>\n",
              "      <th>Cancelled</th>\n",
              "      <th>Diverted</th>\n",
              "    </tr>\n",
              "  </thead>\n",
              "  <tbody>\n",
              "    <tr>\n",
              "      <th>8</th>\n",
              "      <td>1995-01-09</td>\n",
              "      <td>1</td>\n",
              "      <td>NaN</td>\n",
              "      <td>1950</td>\n",
              "      <td>NaN</td>\n",
              "      <td>2337</td>\n",
              "      <td>CO</td>\n",
              "      <td>401</td>\n",
              "      <td>UNKNOW</td>\n",
              "      <td>NaN</td>\n",
              "      <td>...</td>\n",
              "      <td>42.0</td>\n",
              "      <td>NaN</td>\n",
              "      <td>NaN</td>\n",
              "      <td>EWR</td>\n",
              "      <td>PHX</td>\n",
              "      <td>2133.0</td>\n",
              "      <td>8.0</td>\n",
              "      <td>33.0</td>\n",
              "      <td>True</td>\n",
              "      <td>0</td>\n",
              "    </tr>\n",
              "    <tr>\n",
              "      <th>39</th>\n",
              "      <td>1995-01-18</td>\n",
              "      <td>3</td>\n",
              "      <td>NaN</td>\n",
              "      <td>1640</td>\n",
              "      <td>NaN</td>\n",
              "      <td>2002</td>\n",
              "      <td>CO</td>\n",
              "      <td>446</td>\n",
              "      <td>UNKNOW</td>\n",
              "      <td>NaN</td>\n",
              "      <td>...</td>\n",
              "      <td>56.0</td>\n",
              "      <td>NaN</td>\n",
              "      <td>NaN</td>\n",
              "      <td>EWR</td>\n",
              "      <td>PHX</td>\n",
              "      <td>2133.0</td>\n",
              "      <td>6.0</td>\n",
              "      <td>20.0</td>\n",
              "      <td>True</td>\n",
              "      <td>0</td>\n",
              "    </tr>\n",
              "    <tr>\n",
              "      <th>248</th>\n",
              "      <td>1995-01-11</td>\n",
              "      <td>3</td>\n",
              "      <td>NaN</td>\n",
              "      <td>1815</td>\n",
              "      <td>NaN</td>\n",
              "      <td>2202</td>\n",
              "      <td>TW</td>\n",
              "      <td>731</td>\n",
              "      <td>UNKNOW</td>\n",
              "      <td>NaN</td>\n",
              "      <td>...</td>\n",
              "      <td>124.0</td>\n",
              "      <td>NaN</td>\n",
              "      <td>NaN</td>\n",
              "      <td>JFK</td>\n",
              "      <td>PHX</td>\n",
              "      <td>2153.0</td>\n",
              "      <td>10.0</td>\n",
              "      <td>34.0</td>\n",
              "      <td>True</td>\n",
              "      <td>0</td>\n",
              "    </tr>\n",
              "    <tr>\n",
              "      <th>276</th>\n",
              "      <td>1995-01-09</td>\n",
              "      <td>1</td>\n",
              "      <td>NaN</td>\n",
              "      <td>1900</td>\n",
              "      <td>NaN</td>\n",
              "      <td>2042</td>\n",
              "      <td>CO</td>\n",
              "      <td>633</td>\n",
              "      <td>UNKNOW</td>\n",
              "      <td>NaN</td>\n",
              "      <td>...</td>\n",
              "      <td>134.0</td>\n",
              "      <td>NaN</td>\n",
              "      <td>NaN</td>\n",
              "      <td>EWR</td>\n",
              "      <td>PIT</td>\n",
              "      <td>319.0</td>\n",
              "      <td>5.0</td>\n",
              "      <td>18.0</td>\n",
              "      <td>True</td>\n",
              "      <td>0</td>\n",
              "    </tr>\n",
              "    <tr>\n",
              "      <th>285</th>\n",
              "      <td>1995-01-09</td>\n",
              "      <td>1</td>\n",
              "      <td>NaN</td>\n",
              "      <td>1500</td>\n",
              "      <td>NaN</td>\n",
              "      <td>1634</td>\n",
              "      <td>CO</td>\n",
              "      <td>663</td>\n",
              "      <td>UNKNOW</td>\n",
              "      <td>NaN</td>\n",
              "      <td>...</td>\n",
              "      <td>154.0</td>\n",
              "      <td>NaN</td>\n",
              "      <td>NaN</td>\n",
              "      <td>EWR</td>\n",
              "      <td>PIT</td>\n",
              "      <td>319.0</td>\n",
              "      <td>4.0</td>\n",
              "      <td>11.0</td>\n",
              "      <td>True</td>\n",
              "      <td>0</td>\n",
              "    </tr>\n",
              "    <tr>\n",
              "      <th>...</th>\n",
              "      <td>...</td>\n",
              "      <td>...</td>\n",
              "      <td>...</td>\n",
              "      <td>...</td>\n",
              "      <td>...</td>\n",
              "      <td>...</td>\n",
              "      <td>...</td>\n",
              "      <td>...</td>\n",
              "      <td>...</td>\n",
              "      <td>...</td>\n",
              "      <td>...</td>\n",
              "      <td>...</td>\n",
              "      <td>...</td>\n",
              "      <td>...</td>\n",
              "      <td>...</td>\n",
              "      <td>...</td>\n",
              "      <td>...</td>\n",
              "      <td>...</td>\n",
              "      <td>...</td>\n",
              "      <td>...</td>\n",
              "      <td>...</td>\n",
              "    </tr>\n",
              "    <tr>\n",
              "      <th>268926</th>\n",
              "      <td>1999-12-20</td>\n",
              "      <td>1</td>\n",
              "      <td>NaN</td>\n",
              "      <td>1846</td>\n",
              "      <td>NaN</td>\n",
              "      <td>2103</td>\n",
              "      <td>UA</td>\n",
              "      <td>1609</td>\n",
              "      <td>UNKNOW</td>\n",
              "      <td>NaN</td>\n",
              "      <td>...</td>\n",
              "      <td>NaN</td>\n",
              "      <td>NaN</td>\n",
              "      <td>NaN</td>\n",
              "      <td>EWR</td>\n",
              "      <td>DEN</td>\n",
              "      <td>1605.0</td>\n",
              "      <td>0.0</td>\n",
              "      <td>0.0</td>\n",
              "      <td>True</td>\n",
              "      <td>0</td>\n",
              "    </tr>\n",
              "    <tr>\n",
              "      <th>269031</th>\n",
              "      <td>1999-12-16</td>\n",
              "      <td>4</td>\n",
              "      <td>NaN</td>\n",
              "      <td>615</td>\n",
              "      <td>NaN</td>\n",
              "      <td>829</td>\n",
              "      <td>UA</td>\n",
              "      <td>401</td>\n",
              "      <td>UNKNOW</td>\n",
              "      <td>NaN</td>\n",
              "      <td>...</td>\n",
              "      <td>NaN</td>\n",
              "      <td>NaN</td>\n",
              "      <td>NaN</td>\n",
              "      <td>LGA</td>\n",
              "      <td>DEN</td>\n",
              "      <td>1619.0</td>\n",
              "      <td>0.0</td>\n",
              "      <td>0.0</td>\n",
              "      <td>True</td>\n",
              "      <td>0</td>\n",
              "    </tr>\n",
              "    <tr>\n",
              "      <th>269093</th>\n",
              "      <td>1999-12-14</td>\n",
              "      <td>2</td>\n",
              "      <td>NaN</td>\n",
              "      <td>1650</td>\n",
              "      <td>NaN</td>\n",
              "      <td>1906</td>\n",
              "      <td>UA</td>\n",
              "      <td>785</td>\n",
              "      <td>UNKNOW</td>\n",
              "      <td>NaN</td>\n",
              "      <td>...</td>\n",
              "      <td>NaN</td>\n",
              "      <td>NaN</td>\n",
              "      <td>NaN</td>\n",
              "      <td>LGA</td>\n",
              "      <td>DEN</td>\n",
              "      <td>1619.0</td>\n",
              "      <td>0.0</td>\n",
              "      <td>0.0</td>\n",
              "      <td>True</td>\n",
              "      <td>0</td>\n",
              "    </tr>\n",
              "    <tr>\n",
              "      <th>269153</th>\n",
              "      <td>1999-12-17</td>\n",
              "      <td>5</td>\n",
              "      <td>NaN</td>\n",
              "      <td>1400</td>\n",
              "      <td>NaN</td>\n",
              "      <td>1613</td>\n",
              "      <td>UA</td>\n",
              "      <td>1691</td>\n",
              "      <td>UNKNOW</td>\n",
              "      <td>NaN</td>\n",
              "      <td>...</td>\n",
              "      <td>NaN</td>\n",
              "      <td>NaN</td>\n",
              "      <td>NaN</td>\n",
              "      <td>LGA</td>\n",
              "      <td>DEN</td>\n",
              "      <td>1619.0</td>\n",
              "      <td>0.0</td>\n",
              "      <td>0.0</td>\n",
              "      <td>True</td>\n",
              "      <td>0</td>\n",
              "    </tr>\n",
              "    <tr>\n",
              "      <th>269154</th>\n",
              "      <td>1999-12-20</td>\n",
              "      <td>1</td>\n",
              "      <td>NaN</td>\n",
              "      <td>1400</td>\n",
              "      <td>NaN</td>\n",
              "      <td>1613</td>\n",
              "      <td>UA</td>\n",
              "      <td>1691</td>\n",
              "      <td>UNKNOW</td>\n",
              "      <td>NaN</td>\n",
              "      <td>...</td>\n",
              "      <td>NaN</td>\n",
              "      <td>NaN</td>\n",
              "      <td>NaN</td>\n",
              "      <td>LGA</td>\n",
              "      <td>DEN</td>\n",
              "      <td>1619.0</td>\n",
              "      <td>0.0</td>\n",
              "      <td>0.0</td>\n",
              "      <td>True</td>\n",
              "      <td>0</td>\n",
              "    </tr>\n",
              "  </tbody>\n",
              "</table>\n",
              "<p>36339 rows × 21 columns</p>\n",
              "</div>\n",
              "      <button class=\"colab-df-convert\" onclick=\"convertToInteractive('df-55a1580a-03c3-444e-8536-58be71f4d026')\"\n",
              "              title=\"Convert this dataframe to an interactive table.\"\n",
              "              style=\"display:none;\">\n",
              "        \n",
              "  <svg xmlns=\"http://www.w3.org/2000/svg\" height=\"24px\"viewBox=\"0 0 24 24\"\n",
              "       width=\"24px\">\n",
              "    <path d=\"M0 0h24v24H0V0z\" fill=\"none\"/>\n",
              "    <path d=\"M18.56 5.44l.94 2.06.94-2.06 2.06-.94-2.06-.94-.94-2.06-.94 2.06-2.06.94zm-11 1L8.5 8.5l.94-2.06 2.06-.94-2.06-.94L8.5 2.5l-.94 2.06-2.06.94zm10 10l.94 2.06.94-2.06 2.06-.94-2.06-.94-.94-2.06-.94 2.06-2.06.94z\"/><path d=\"M17.41 7.96l-1.37-1.37c-.4-.4-.92-.59-1.43-.59-.52 0-1.04.2-1.43.59L10.3 9.45l-7.72 7.72c-.78.78-.78 2.05 0 2.83L4 21.41c.39.39.9.59 1.41.59.51 0 1.02-.2 1.41-.59l7.78-7.78 2.81-2.81c.8-.78.8-2.07 0-2.86zM5.41 20L4 18.59l7.72-7.72 1.47 1.35L5.41 20z\"/>\n",
              "  </svg>\n",
              "      </button>\n",
              "      \n",
              "  <style>\n",
              "    .colab-df-container {\n",
              "      display:flex;\n",
              "      flex-wrap:wrap;\n",
              "      gap: 12px;\n",
              "    }\n",
              "\n",
              "    .colab-df-convert {\n",
              "      background-color: #E8F0FE;\n",
              "      border: none;\n",
              "      border-radius: 50%;\n",
              "      cursor: pointer;\n",
              "      display: none;\n",
              "      fill: #1967D2;\n",
              "      height: 32px;\n",
              "      padding: 0 0 0 0;\n",
              "      width: 32px;\n",
              "    }\n",
              "\n",
              "    .colab-df-convert:hover {\n",
              "      background-color: #E2EBFA;\n",
              "      box-shadow: 0px 1px 2px rgba(60, 64, 67, 0.3), 0px 1px 3px 1px rgba(60, 64, 67, 0.15);\n",
              "      fill: #174EA6;\n",
              "    }\n",
              "\n",
              "    [theme=dark] .colab-df-convert {\n",
              "      background-color: #3B4455;\n",
              "      fill: #D2E3FC;\n",
              "    }\n",
              "\n",
              "    [theme=dark] .colab-df-convert:hover {\n",
              "      background-color: #434B5C;\n",
              "      box-shadow: 0px 1px 3px 1px rgba(0, 0, 0, 0.15);\n",
              "      filter: drop-shadow(0px 1px 2px rgba(0, 0, 0, 0.3));\n",
              "      fill: #FFFFFF;\n",
              "    }\n",
              "  </style>\n",
              "\n",
              "      <script>\n",
              "        const buttonEl =\n",
              "          document.querySelector('#df-55a1580a-03c3-444e-8536-58be71f4d026 button.colab-df-convert');\n",
              "        buttonEl.style.display =\n",
              "          google.colab.kernel.accessAllowed ? 'block' : 'none';\n",
              "\n",
              "        async function convertToInteractive(key) {\n",
              "          const element = document.querySelector('#df-55a1580a-03c3-444e-8536-58be71f4d026');\n",
              "          const dataTable =\n",
              "            await google.colab.kernel.invokeFunction('convertToInteractive',\n",
              "                                                     [key], {});\n",
              "          if (!dataTable) return;\n",
              "\n",
              "          const docLinkHtml = 'Like what you see? Visit the ' +\n",
              "            '<a target=\"_blank\" href=https://colab.research.google.com/notebooks/data_table.ipynb>data table notebook</a>'\n",
              "            + ' to learn more about interactive tables.';\n",
              "          element.innerHTML = '';\n",
              "          dataTable['output_type'] = 'display_data';\n",
              "          await google.colab.output.renderOutput(dataTable, element);\n",
              "          const docLink = document.createElement('div');\n",
              "          docLink.innerHTML = docLinkHtml;\n",
              "          element.appendChild(docLink);\n",
              "        }\n",
              "      </script>\n",
              "    </div>\n",
              "  </div>\n",
              "  "
            ]
          },
          "metadata": {},
          "execution_count": 34
        }
      ]
    },
    {
      "cell_type": "markdown",
      "metadata": {
        "id": "aVCJRMxhbycd"
      },
      "source": [
        "Double check that the planes indexes match."
      ]
    },
    {
      "cell_type": "code",
      "metadata": {
        "id": "2kUowBa0byce",
        "colab": {
          "base_uri": "https://localhost:8080/"
        },
        "outputId": "a9f7b7b9-57d8-4544-d38d-8be9d377256b"
      },
      "source": [
        "import numpy as np \n",
        "latelist = df_late['TailNum'].unique()\n",
        "print(np.sort(latelist))"
      ],
      "execution_count": 37,
      "outputs": [
        {
          "output_type": "stream",
          "name": "stdout",
          "text": [
            "['N101UW' 'N102UW' 'N104UW' 'N106UW' 'N133JC' 'N133TW' 'N134TW' 'N14249'\n",
            " 'N144JC' 'N147US' 'N151AW' 'N151UA' 'N152UA' 'N153US' 'N154AA' 'N154AW'\n",
            " 'N155US' 'N156AW' 'N158AW' 'N161US' 'N168AW' 'N169AW' 'N17010' 'N17011'\n",
            " 'N1738D' 'N1739D' 'N174AW' 'N174GM' 'N174UA' 'N175UA' 'N17789' 'N1854U'\n",
            " 'N195UA' 'N199UA' 'N224DA' 'N224NW' 'N225NW' 'N235NW' 'N303TW' 'N304AW'\n",
            " 'N305AW' 'N305TW' 'N307TW' 'N322AW' 'N328AW' 'N33021' 'N3310L' 'N331AW'\n",
            " 'N375DA' 'N376DL' 'N379DL' 'N382DA' 'N53110' 'N53116' 'N534TW' 'N6700'\n",
            " 'N701UW' 'N706UW' 'N708UW' 'N713DA' 'N713UW' 'N716DA' 'N719DA' 'N724DA'\n",
            " 'N727UW' 'N733DS' 'N735D' 'N737D' 'N760DH' 'N78019' 'N787DL' 'N789DL'\n",
            " 'N802DE' 'N805DE' 'N817AA' 'N8911E' 'N93104' 'N93107' 'N93108' 'N93109'\n",
            " 'N93119' 'N96S' 'N971Z' 'N976UA' 'N993UA' 'NEIDLA' 'UNKNOW']\n"
          ]
        }
      ]
    },
    {
      "cell_type": "markdown",
      "metadata": {
        "id": "r5rj3Wgpbych"
      },
      "source": [
        "Now, let's get a sense of what airports these planes fly out of.  For the planes in the late_list, let's find out the total delay at these airports, the average delay by airport and the total number of flights at each airport."
      ]
    },
    {
      "cell_type": "code",
      "metadata": {
        "id": "e9cj7W-cbyci",
        "colab": {
          "base_uri": "https://localhost:8080/"
        },
        "outputId": "2f865b9c-3bda-40a7-c1a7-3aa081b2bfb7"
      },
      "source": [
        "#TODO total DepDelay for planes by Origin airport\n",
        "df_late.groupby(\"Origin\")[\"DepDelay\"].sum().compute()"
      ],
      "execution_count": 40,
      "outputs": [
        {
          "output_type": "execute_result",
          "data": {
            "text/plain": [
              "Origin\n",
              "EWR    16982.0\n",
              "JFK    61684.0\n",
              "LGA    27669.0\n",
              "Name: DepDelay, dtype: float64"
            ]
          },
          "metadata": {},
          "execution_count": 40
        }
      ]
    },
    {
      "cell_type": "code",
      "metadata": {
        "id": "6mczfLxDbycl",
        "colab": {
          "base_uri": "https://localhost:8080/"
        },
        "outputId": "4352f93a-458a-4992-dc70-f36d53c17893"
      },
      "source": [
        "#TODO average DepDelay for planes by Origin airport\n",
        "df_late.groupby(\"Origin\")[\"DepDelay\"].mean().compute()"
      ],
      "execution_count": 41,
      "outputs": [
        {
          "output_type": "execute_result",
          "data": {
            "text/plain": [
              "Origin\n",
              "EWR    43.101523\n",
              "JFK    41.763033\n",
              "LGA    36.027344\n",
              "Name: DepDelay, dtype: float64"
            ]
          },
          "metadata": {},
          "execution_count": 41
        }
      ]
    },
    {
      "cell_type": "code",
      "metadata": {
        "id": "OyuCYWZVbyco",
        "colab": {
          "base_uri": "https://localhost:8080/"
        },
        "outputId": "d8e5fea4-d7b8-44f3-e002-b6998126cded"
      },
      "source": [
        "#TODO number of late flights by Origin airport\n",
        "df_late.groupby(\"Origin\")[\"DepDelay\"].count().compute()"
      ],
      "execution_count": 42,
      "outputs": [
        {
          "output_type": "execute_result",
          "data": {
            "text/plain": [
              "Origin\n",
              "EWR     394\n",
              "JFK    1477\n",
              "LGA     768\n",
              "Name: DepDelay, dtype: int64"
            ]
          },
          "metadata": {},
          "execution_count": 42
        }
      ]
    },
    {
      "cell_type": "markdown",
      "metadata": {
        "id": "QRGT4VF9bycq"
      },
      "source": [
        "I don't know that these statistics all make sense, but that's to debug.\n",
        "\n",
        "## Deferred computing\n",
        "\n",
        "We are going to show the value of deferred computation by timing the following\n",
        "queries in two different ways:\n",
        "\n",
        "```python\n",
        "df1 = df.groupby(['Origin','TailNum']).DepDelay.mean()\n",
        "df2 = df.groupby(['TailNum','Origin']).DepDelay.mean()\n",
        "df3 = df.groupby(['Origin','TailNum']).DepDelay.max()\n",
        "df4 = df.groupby(['TailNum','Origin']).DepDelay.max()\n",
        "```\n",
        "\n",
        " 1. In one cell, add these lines and then call `compute()` on every step.\n",
        " 2. In the next cell, add the lines and only call compute at the end.\n",
        "\n",
        " First reload the data:"
      ]
    },
    {
      "cell_type": "code",
      "metadata": {
        "id": "cTVf7PE0cw7F"
      },
      "source": [
        "import dask.dataframe as dd\n",
        "df = dd.read_csv('gs://nycflights/*.csv',\n",
        "                 storage_options={'token': 'anon'},\n",
        "                 parse_dates={'Date': [0, 1, 2]},\n",
        "                 dtype={'TailNum': str,\n",
        "                        'CRSElapsedTime': float,\n",
        "                        'Cancelled': bool})"
      ],
      "execution_count": null,
      "outputs": []
    },
    {
      "cell_type": "markdown",
      "metadata": {
        "id": "e6oGIaoQdhyH"
      },
      "source": [
        "Run the workload calling `compute()` on every line."
      ]
    },
    {
      "cell_type": "code",
      "metadata": {
        "id": "UWioeYsrbycr",
        "colab": {
          "base_uri": "https://localhost:8080/"
        },
        "outputId": "29af5b17-795c-4f75-bf3d-05f450364a6e"
      },
      "source": [
        "%%time\n",
        "\n",
        "#TODO\n",
        "df1 = df.groupby(['Origin','TailNum']).DepDelay.mean().compute()\n",
        "df2 = df.groupby(['TailNum','Origin']).DepDelay.mean().compute()\n",
        "df3 = df.groupby(['Origin','TailNum']).DepDelay.max().compute()\n",
        "df4 = df.groupby(['TailNum','Origin']).DepDelay.max().compute()"
      ],
      "execution_count": 43,
      "outputs": [
        {
          "output_type": "stream",
          "name": "stdout",
          "text": [
            "CPU times: user 24.2 s, sys: 2.23 s, total: 26.4 s\n",
            "Wall time: 21 s\n"
          ]
        }
      ]
    },
    {
      "cell_type": "markdown",
      "metadata": {
        "id": "a-pxDkYcc_3h"
      },
      "source": [
        "Load the data again to make sure that intermediate results are not cached and run the entire workload calling `compute()` just once."
      ]
    },
    {
      "cell_type": "code",
      "metadata": {
        "id": "SzZg4-6Vc8Xr"
      },
      "source": [
        "import dask.dataframe as dd\n",
        "df = dd.read_csv('gs://nycflights/*.csv',\n",
        "                 storage_options={'token': 'anon'},\n",
        "                 parse_dates={'Date': [0, 1, 2]},\n",
        "                 dtype={'TailNum': str,\n",
        "                        'CRSElapsedTime': float,\n",
        "                        'Cancelled': bool})"
      ],
      "execution_count": 48,
      "outputs": []
    },
    {
      "cell_type": "code",
      "metadata": {
        "id": "hypQ3dDXbyct",
        "colab": {
          "base_uri": "https://localhost:8080/"
        },
        "outputId": "6f30dc99-6591-497b-c0fa-49b77c860217"
      },
      "source": [
        "\n",
        "%%time\n",
        "\n",
        "import dask\n",
        "\n",
        "df1 = df.groupby(['Origin','TailNum']).DepDelay.mean()\n",
        "df2 = df.groupby(['TailNum','Origin']).DepDelay.mean()\n",
        "df3 = df.groupby(['Origin','TailNum']).DepDelay.max()\n",
        "df4 = df.groupby(['TailNum','Origin']).DepDelay.max()\n",
        "\n",
        "df1,df2,df3,df4 = dask.compute(df1,df2,df3,df4)\n",
        "\n",
        "#TODO\n",
        "print(df1)\n",
        "print(df2)\n",
        "print(df3)\n",
        "print(df4)"
      ],
      "execution_count": 51,
      "outputs": [
        {
          "output_type": "stream",
          "name": "stdout",
          "text": [
            "Origin  TailNum\n",
            "EWR     EI-BWD      9.355140\n",
            "        EI-CIW     16.283019\n",
            "        N050AA      8.309677\n",
            "        N051AA      5.949275\n",
            "        N052AA     21.845070\n",
            "                     ...    \n",
            "LGA     N993UA     55.000000\n",
            "        N994UA     -3.250000\n",
            "        N995UA     14.600000\n",
            "        N996UA      9.333333\n",
            "        N998UA      1.750000\n",
            "Name: DepDelay, Length: 8861, dtype: float64\n",
            "TailNum  Origin\n",
            "EI-BWD   EWR        9.355140\n",
            "         JFK       11.575758\n",
            "         LGA       11.626866\n",
            "EI-CAL   JFK       23.846154\n",
            "EI-CAM   JFK       26.611511\n",
            "                     ...    \n",
            "N993UA   LGA       55.000000\n",
            "N994UA   LGA       -3.250000\n",
            "N995UA   LGA       14.600000\n",
            "N996UA   LGA        9.333333\n",
            "N998UA   LGA        1.750000\n",
            "Name: DepDelay, Length: 8861, dtype: float64\n",
            "Origin  TailNum\n",
            "EWR     EI-BWD     177.0\n",
            "        EI-CIW     331.0\n",
            "        N050AA     248.0\n",
            "        N051AA     140.0\n",
            "        N052AA     996.0\n",
            "                   ...  \n",
            "LGA     N993UA     227.0\n",
            "        N994UA       0.0\n",
            "        N995UA      59.0\n",
            "        N996UA      17.0\n",
            "        N998UA       8.0\n",
            "Name: DepDelay, Length: 8861, dtype: float64\n",
            "TailNum  Origin\n",
            "EI-BWD   EWR       177.0\n",
            "         JFK       414.0\n",
            "         LGA       208.0\n",
            "EI-CAL   JFK       350.0\n",
            "EI-CAM   JFK       225.0\n",
            "                   ...  \n",
            "N993UA   LGA       227.0\n",
            "N994UA   LGA         0.0\n",
            "N995UA   LGA        59.0\n",
            "N996UA   LGA        17.0\n",
            "N998UA   LGA         8.0\n",
            "Name: DepDelay, Length: 8861, dtype: float64\n",
            "CPU times: user 7.67 s, sys: 645 ms, total: 8.31 s\n",
            "Wall time: 6.1 s\n"
          ]
        }
      ]
    },
    {
      "cell_type": "markdown",
      "metadata": {
        "id": "Huv7gmPPbyc0"
      },
      "source": [
        "\n",
        "\n",
        "### Outcomes\n",
        "* Wrestled with dataframes syntax and concepts.  Good for you.\n",
        "* Witnessed the benefit of deferred computation."
      ]
    },
    {
      "cell_type": "markdown",
      "metadata": {
        "id": "WomfO0mejxw7"
      },
      "source": [
        "### Questions\n",
        "\n",
        "1. On computational reuse in execution graphs:\n",
        "\n",
        "  a. How much faster is it to defer the computation to the end versus calling `compute()` on every line?\n",
        "\n",
        "\n",
        "  20 seconds faster.\n",
        "\n",
        "  b. What computations are shared in the workflow?  Be specific, i.e. identify the code.\n",
        "\n",
        "  The groupby operation is shared.\n",
        "\n",
        "  c. Explain the speedup realized in 1(a). Why is it not faster? Why is it not slower?\n"
      ]
    }
  ]
}