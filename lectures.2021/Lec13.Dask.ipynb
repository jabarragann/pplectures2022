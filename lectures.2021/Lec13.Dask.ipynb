{
 "cells": [
  {
   "cell_type": "markdown",
   "metadata": {},
   "source": [
    "## Introduction to Dask\n",
    "\n",
    "Why do we like Python for data science??? It has this amazing ecosystem of libraries that work together:\n",
    "* NumPy\n",
    "* SciPy\n",
    "* scikit-image\n",
    "* scikit-learn\n",
    "* pandas\n",
    "* matplotlib\n",
    " \n",
    "That center around a couple of core concepts:\n",
    "* dense arrays (NumPy)\n",
    "* data frames (pandas)\n",
    "   \n",
    "But all of this (and python for the most part) is serial.  And we live in a parallel world.  Let me actually refine and unpack this:\n",
    "  * many functions may be parallelized internally\n",
    "    * NumPy routines link against a C/C++-library, such as atlas or MKL, that execute in parallel\n",
    "  * any python code that you write is serial\n",
    "  \n",
    "__Capablity gap__: a parallel runtime for this ecosystem that is intuitive to the python data scientist.\n",
    "\n",
    "According to the [official dask tutorial](https://github.com/dask/dask-tutorial) \"Dask is a parallel computing library that scales the existing Python ecosystem.\"  It also states that \"Dask can scale down to your laptop and up to a cluster\", which implies that Dask will run on distributed memory.\n",
    "\n",
    "### Core Concepts in Data Parallel Computing \n",
    "\n",
    "I like to think of Dask as a parallel computing framework that has evolved from Google's Map/Reduce and mostly similar to Spark. This is also how I use the tool. The dask community points out some [differences](https://docs.dask.org/en/latest/spark.html). The most notable are:\n",
    "  * multi-dimensional array support\n",
    "  * lower-level programming interfaces for power users (most people don't care)\n",
    "  * integration with the python ecosystem (this is important)\n",
    "  \n",
    "Some important concepts in common are:\n",
    "\n",
    "* __Data Parallel Programming__: The framework breaks data structures into independendent pieces and executes functions against those pieces.\n",
    "* __Automated Parallelism__: The programmer has no interaction with the number of processes/threads/worker.  These are chosen by the runtime system. The exact same program runs on clusters as on laptops.\n",
    "* __Declarative Programming__: The programmer tells the framework _WHAT_ to compute not _HOW_ to compute it. \n",
    "  * This differs from __imperative__ programming in which the programmer tells the computer exactly what steps to take and in what order.  This is what we're used to in Python.\n",
    "  * Declarative programming allows the runtime system to make many optimizations. It can choose an execution order that reduces memory consumption, perform independent steps in parallel, share data accross computations.\n",
    "  * Declarative programming is typically less intuitive.\n",
    "  \n",
    "OK, let's learn by example.  BTW -- we need to add HDF5, a scientific data format, to our python environment.\n",
    "```sh\n",
    "conda install h5py\n",
    "```\n",
    "\n",
    "### A First Dask Program\n",
    "\n",
    "This was my first dask program working with computational fluids (turbulence) data from the [Johns Hopkins Turbulence Database](http://pha.jhu.edu/turbulence)."
   ]
  },
  {
   "cell_type": "code",
   "execution_count": 1,
   "metadata": {},
   "outputs": [
    {
     "data": {
      "text/html": [
       "<table>\n",
       "    <tr>\n",
       "        <td>\n",
       "            <table>\n",
       "                <thead>\n",
       "                    <tr>\n",
       "                        <td> </td>\n",
       "                        <th> Array </th>\n",
       "                        <th> Chunk </th>\n",
       "                    </tr>\n",
       "                </thead>\n",
       "                <tbody>\n",
       "                    \n",
       "                    <tr>\n",
       "                        <th> Bytes </th>\n",
       "                        <td> 48.00 MiB </td>\n",
       "                        <td> 48.00 kiB </td>\n",
       "                    </tr>\n",
       "                    \n",
       "                    <tr>\n",
       "                        <th> Shape </th>\n",
       "                        <td> (2048, 2048, 3) </td>\n",
       "                        <td> (64, 64, 3) </td>\n",
       "                    </tr>\n",
       "                    <tr>\n",
       "                        <th> Count </th>\n",
       "                        <td> 1024 Tasks </td>\n",
       "                        <td> 1024 Chunks </td>\n",
       "                    </tr>\n",
       "                    <tr>\n",
       "                    <th> Type </th>\n",
       "                    <td> float32 </td>\n",
       "                    <td> numpy.ndarray </td>\n",
       "                    </tr>\n",
       "                </tbody>\n",
       "            </table>\n",
       "        </td>\n",
       "        <td>\n",
       "        <svg width=\"156\" height=\"240\" style=\"stroke:rgb(0,0,0);stroke-width:1\" >\n",
       "\n",
       "  <!-- Horizontal lines -->\n",
       "  <line x1=\"10\" y1=\"0\" x2=\"80\" y2=\"70\" style=\"stroke-width:2\" />\n",
       "  <line x1=\"10\" y1=\"3\" x2=\"80\" y2=\"74\" />\n",
       "  <line x1=\"10\" y1=\"11\" x2=\"80\" y2=\"81\" />\n",
       "  <line x1=\"10\" y1=\"18\" x2=\"80\" y2=\"89\" />\n",
       "  <line x1=\"10\" y1=\"22\" x2=\"80\" y2=\"93\" />\n",
       "  <line x1=\"10\" y1=\"30\" x2=\"80\" y2=\"100\" />\n",
       "  <line x1=\"10\" y1=\"37\" x2=\"80\" y2=\"108\" />\n",
       "  <line x1=\"10\" y1=\"41\" x2=\"80\" y2=\"111\" />\n",
       "  <line x1=\"10\" y1=\"48\" x2=\"80\" y2=\"119\" />\n",
       "  <line x1=\"10\" y1=\"56\" x2=\"80\" y2=\"126\" />\n",
       "  <line x1=\"10\" y1=\"60\" x2=\"80\" y2=\"130\" />\n",
       "  <line x1=\"10\" y1=\"67\" x2=\"80\" y2=\"138\" />\n",
       "  <line x1=\"10\" y1=\"75\" x2=\"80\" y2=\"145\" />\n",
       "  <line x1=\"10\" y1=\"78\" x2=\"80\" y2=\"149\" />\n",
       "  <line x1=\"10\" y1=\"86\" x2=\"80\" y2=\"156\" />\n",
       "  <line x1=\"10\" y1=\"93\" x2=\"80\" y2=\"164\" />\n",
       "  <line x1=\"10\" y1=\"97\" x2=\"80\" y2=\"168\" />\n",
       "  <line x1=\"10\" y1=\"105\" x2=\"80\" y2=\"175\" />\n",
       "  <line x1=\"10\" y1=\"112\" x2=\"80\" y2=\"183\" />\n",
       "  <line x1=\"10\" y1=\"120\" x2=\"80\" y2=\"190\" style=\"stroke-width:2\" />\n",
       "\n",
       "  <!-- Vertical lines -->\n",
       "  <line x1=\"10\" y1=\"0\" x2=\"10\" y2=\"120\" style=\"stroke-width:2\" />\n",
       "  <line x1=\"12\" y1=\"2\" x2=\"12\" y2=\"122\" />\n",
       "  <line x1=\"16\" y1=\"6\" x2=\"16\" y2=\"126\" />\n",
       "  <line x1=\"21\" y1=\"11\" x2=\"21\" y2=\"131\" />\n",
       "  <line x1=\"23\" y1=\"13\" x2=\"23\" y2=\"133\" />\n",
       "  <line x1=\"27\" y1=\"17\" x2=\"27\" y2=\"137\" />\n",
       "  <line x1=\"32\" y1=\"22\" x2=\"32\" y2=\"142\" />\n",
       "  <line x1=\"34\" y1=\"24\" x2=\"34\" y2=\"144\" />\n",
       "  <line x1=\"38\" y1=\"28\" x2=\"38\" y2=\"148\" />\n",
       "  <line x1=\"43\" y1=\"33\" x2=\"43\" y2=\"153\" />\n",
       "  <line x1=\"45\" y1=\"35\" x2=\"45\" y2=\"155\" />\n",
       "  <line x1=\"49\" y1=\"39\" x2=\"49\" y2=\"159\" />\n",
       "  <line x1=\"54\" y1=\"44\" x2=\"54\" y2=\"164\" />\n",
       "  <line x1=\"56\" y1=\"46\" x2=\"56\" y2=\"166\" />\n",
       "  <line x1=\"60\" y1=\"50\" x2=\"60\" y2=\"170\" />\n",
       "  <line x1=\"65\" y1=\"55\" x2=\"65\" y2=\"175\" />\n",
       "  <line x1=\"67\" y1=\"57\" x2=\"67\" y2=\"177\" />\n",
       "  <line x1=\"71\" y1=\"61\" x2=\"71\" y2=\"181\" />\n",
       "  <line x1=\"76\" y1=\"66\" x2=\"76\" y2=\"186\" />\n",
       "  <line x1=\"80\" y1=\"70\" x2=\"80\" y2=\"190\" style=\"stroke-width:2\" />\n",
       "\n",
       "  <!-- Colored Rectangle -->\n",
       "  <polygon points=\"10.0,0.0 80.58823529411765,70.58823529411765 80.58823529411765,190.58823529411765 10.0,120.0\" style=\"fill:#8B4903A0;stroke-width:0\"/>\n",
       "\n",
       "  <!-- Horizontal lines -->\n",
       "  <line x1=\"10\" y1=\"0\" x2=\"35\" y2=\"0\" style=\"stroke-width:2\" />\n",
       "  <line x1=\"12\" y1=\"2\" x2=\"37\" y2=\"2\" />\n",
       "  <line x1=\"16\" y1=\"6\" x2=\"42\" y2=\"6\" />\n",
       "  <line x1=\"21\" y1=\"11\" x2=\"46\" y2=\"11\" />\n",
       "  <line x1=\"23\" y1=\"13\" x2=\"48\" y2=\"13\" />\n",
       "  <line x1=\"27\" y1=\"17\" x2=\"53\" y2=\"17\" />\n",
       "  <line x1=\"32\" y1=\"22\" x2=\"57\" y2=\"22\" />\n",
       "  <line x1=\"34\" y1=\"24\" x2=\"59\" y2=\"24\" />\n",
       "  <line x1=\"38\" y1=\"28\" x2=\"64\" y2=\"28\" />\n",
       "  <line x1=\"43\" y1=\"33\" x2=\"68\" y2=\"33\" />\n",
       "  <line x1=\"45\" y1=\"35\" x2=\"70\" y2=\"35\" />\n",
       "  <line x1=\"49\" y1=\"39\" x2=\"75\" y2=\"39\" />\n",
       "  <line x1=\"54\" y1=\"44\" x2=\"79\" y2=\"44\" />\n",
       "  <line x1=\"56\" y1=\"46\" x2=\"81\" y2=\"46\" />\n",
       "  <line x1=\"60\" y1=\"50\" x2=\"86\" y2=\"50\" />\n",
       "  <line x1=\"65\" y1=\"55\" x2=\"90\" y2=\"55\" />\n",
       "  <line x1=\"67\" y1=\"57\" x2=\"92\" y2=\"57\" />\n",
       "  <line x1=\"71\" y1=\"61\" x2=\"97\" y2=\"61\" />\n",
       "  <line x1=\"76\" y1=\"66\" x2=\"101\" y2=\"66\" />\n",
       "  <line x1=\"80\" y1=\"70\" x2=\"106\" y2=\"70\" style=\"stroke-width:2\" />\n",
       "\n",
       "  <!-- Vertical lines -->\n",
       "  <line x1=\"10\" y1=\"0\" x2=\"80\" y2=\"70\" style=\"stroke-width:2\" />\n",
       "  <line x1=\"35\" y1=\"0\" x2=\"106\" y2=\"70\" style=\"stroke-width:2\" />\n",
       "\n",
       "  <!-- Colored Rectangle -->\n",
       "  <polygon points=\"10.0,0.0 35.41261651458248,0.0 106.00085180870013,70.58823529411765 80.58823529411765,70.58823529411765\" style=\"fill:#8B4903A0;stroke-width:0\"/>\n",
       "\n",
       "  <!-- Horizontal lines -->\n",
       "  <line x1=\"80\" y1=\"70\" x2=\"106\" y2=\"70\" style=\"stroke-width:2\" />\n",
       "  <line x1=\"80\" y1=\"74\" x2=\"106\" y2=\"74\" />\n",
       "  <line x1=\"80\" y1=\"81\" x2=\"106\" y2=\"81\" />\n",
       "  <line x1=\"80\" y1=\"89\" x2=\"106\" y2=\"89\" />\n",
       "  <line x1=\"80\" y1=\"93\" x2=\"106\" y2=\"93\" />\n",
       "  <line x1=\"80\" y1=\"100\" x2=\"106\" y2=\"100\" />\n",
       "  <line x1=\"80\" y1=\"108\" x2=\"106\" y2=\"108\" />\n",
       "  <line x1=\"80\" y1=\"111\" x2=\"106\" y2=\"111\" />\n",
       "  <line x1=\"80\" y1=\"119\" x2=\"106\" y2=\"119\" />\n",
       "  <line x1=\"80\" y1=\"126\" x2=\"106\" y2=\"126\" />\n",
       "  <line x1=\"80\" y1=\"130\" x2=\"106\" y2=\"130\" />\n",
       "  <line x1=\"80\" y1=\"138\" x2=\"106\" y2=\"138\" />\n",
       "  <line x1=\"80\" y1=\"145\" x2=\"106\" y2=\"145\" />\n",
       "  <line x1=\"80\" y1=\"149\" x2=\"106\" y2=\"149\" />\n",
       "  <line x1=\"80\" y1=\"156\" x2=\"106\" y2=\"156\" />\n",
       "  <line x1=\"80\" y1=\"164\" x2=\"106\" y2=\"164\" />\n",
       "  <line x1=\"80\" y1=\"168\" x2=\"106\" y2=\"168\" />\n",
       "  <line x1=\"80\" y1=\"175\" x2=\"106\" y2=\"175\" />\n",
       "  <line x1=\"80\" y1=\"183\" x2=\"106\" y2=\"183\" />\n",
       "  <line x1=\"80\" y1=\"190\" x2=\"106\" y2=\"190\" style=\"stroke-width:2\" />\n",
       "\n",
       "  <!-- Vertical lines -->\n",
       "  <line x1=\"80\" y1=\"70\" x2=\"80\" y2=\"190\" style=\"stroke-width:2\" />\n",
       "  <line x1=\"106\" y1=\"70\" x2=\"106\" y2=\"190\" style=\"stroke-width:2\" />\n",
       "\n",
       "  <!-- Colored Rectangle -->\n",
       "  <polygon points=\"80.58823529411765,70.58823529411765 106.00085180870013,70.58823529411765 106.00085180870013,190.58823529411765 80.58823529411765,190.58823529411765\" style=\"fill:#8B4903A0;stroke-width:0\"/>\n",
       "\n",
       "  <!-- Text -->\n",
       "  <text x=\"93.294544\" y=\"210.588235\" font-size=\"1.0rem\" font-weight=\"100\" text-anchor=\"middle\" >3</text>\n",
       "  <text x=\"126.000852\" y=\"130.588235\" font-size=\"1.0rem\" font-weight=\"100\" text-anchor=\"middle\" transform=\"rotate(-90,126.000852,130.588235)\">2048</text>\n",
       "  <text x=\"35.294118\" y=\"175.294118\" font-size=\"1.0rem\" font-weight=\"100\" text-anchor=\"middle\" transform=\"rotate(45,35.294118,175.294118)\">2048</text>\n",
       "</svg>\n",
       "        </td>\n",
       "    </tr>\n",
       "</table>"
      ],
      "text/plain": [
       "dask.array<array, shape=(2048, 2048, 3), dtype=float32, chunksize=(64, 64, 3), chunktype=numpy.ndarray>"
      ]
     },
     "execution_count": 1,
     "metadata": {},
     "output_type": "execute_result"
    }
   ],
   "source": [
    "import numpy as np\n",
    "import dask.array as da\n",
    "import h5py\n",
    "\n",
    "# load a file and grab the data\n",
    "f = h5py.File(\"./data/isotropic4096.h5\",\"r\")\n",
    "d = f['u00000']\n",
    "\n",
    "# convert data into a dask array\n",
    "uvec = da.from_array(d[0,:,:,:], chunks=(64, 64, 3))\n",
    "uvec"
   ]
  },
  {
   "cell_type": "markdown",
   "metadata": {},
   "source": [
    "This data is a velocity field in a plane of 2048x2048 cells with three orthogonal components $(u,v,z)$ in the $(x,y,z)$ dimensions.  This is a small cut of a large numerical simulation $(8192^3)$. This is a typical data analysis patter, e.g. to examine flow through a plane."
   ]
  },
  {
   "cell_type": "code",
   "execution_count": 3,
   "metadata": {},
   "outputs": [
    {
     "data": {
      "text/html": [
       "<table>\n",
       "<tr>\n",
       "<td>\n",
       "<table>\n",
       "  <thead>\n",
       "    <tr><td> </td><th> Array </th><th> Chunk </th></tr>\n",
       "  </thead>\n",
       "  <tbody>\n",
       "    <tr><th> Bytes </th><td> 32.00 MiB </td> <td> 32.00 kiB </td></tr>\n",
       "    <tr><th> Shape </th><td> (2048, 2048) </td> <td> (64, 64) </td></tr>\n",
       "    <tr><th> Count </th><td> 7168 Tasks </td><td> 1024 Chunks </td></tr>\n",
       "    <tr><th> Type </th><td> float64 </td><td> numpy.ndarray </td></tr>\n",
       "  </tbody>\n",
       "</table>\n",
       "</td>\n",
       "<td>\n",
       "<svg width=\"170\" height=\"170\" style=\"stroke:rgb(0,0,0);stroke-width:1\" >\n",
       "\n",
       "  <!-- Horizontal lines -->\n",
       "  <line x1=\"0\" y1=\"0\" x2=\"120\" y2=\"0\" style=\"stroke-width:2\" />\n",
       "  <line x1=\"0\" y1=\"3\" x2=\"120\" y2=\"3\" />\n",
       "  <line x1=\"0\" y1=\"11\" x2=\"120\" y2=\"11\" />\n",
       "  <line x1=\"0\" y1=\"18\" x2=\"120\" y2=\"18\" />\n",
       "  <line x1=\"0\" y1=\"22\" x2=\"120\" y2=\"22\" />\n",
       "  <line x1=\"0\" y1=\"30\" x2=\"120\" y2=\"30\" />\n",
       "  <line x1=\"0\" y1=\"37\" x2=\"120\" y2=\"37\" />\n",
       "  <line x1=\"0\" y1=\"41\" x2=\"120\" y2=\"41\" />\n",
       "  <line x1=\"0\" y1=\"48\" x2=\"120\" y2=\"48\" />\n",
       "  <line x1=\"0\" y1=\"56\" x2=\"120\" y2=\"56\" />\n",
       "  <line x1=\"0\" y1=\"60\" x2=\"120\" y2=\"60\" />\n",
       "  <line x1=\"0\" y1=\"67\" x2=\"120\" y2=\"67\" />\n",
       "  <line x1=\"0\" y1=\"75\" x2=\"120\" y2=\"75\" />\n",
       "  <line x1=\"0\" y1=\"78\" x2=\"120\" y2=\"78\" />\n",
       "  <line x1=\"0\" y1=\"86\" x2=\"120\" y2=\"86\" />\n",
       "  <line x1=\"0\" y1=\"93\" x2=\"120\" y2=\"93\" />\n",
       "  <line x1=\"0\" y1=\"97\" x2=\"120\" y2=\"97\" />\n",
       "  <line x1=\"0\" y1=\"105\" x2=\"120\" y2=\"105\" />\n",
       "  <line x1=\"0\" y1=\"112\" x2=\"120\" y2=\"112\" />\n",
       "  <line x1=\"0\" y1=\"120\" x2=\"120\" y2=\"120\" style=\"stroke-width:2\" />\n",
       "\n",
       "  <!-- Vertical lines -->\n",
       "  <line x1=\"0\" y1=\"0\" x2=\"0\" y2=\"120\" style=\"stroke-width:2\" />\n",
       "  <line x1=\"3\" y1=\"0\" x2=\"3\" y2=\"120\" />\n",
       "  <line x1=\"11\" y1=\"0\" x2=\"11\" y2=\"120\" />\n",
       "  <line x1=\"18\" y1=\"0\" x2=\"18\" y2=\"120\" />\n",
       "  <line x1=\"22\" y1=\"0\" x2=\"22\" y2=\"120\" />\n",
       "  <line x1=\"30\" y1=\"0\" x2=\"30\" y2=\"120\" />\n",
       "  <line x1=\"37\" y1=\"0\" x2=\"37\" y2=\"120\" />\n",
       "  <line x1=\"41\" y1=\"0\" x2=\"41\" y2=\"120\" />\n",
       "  <line x1=\"48\" y1=\"0\" x2=\"48\" y2=\"120\" />\n",
       "  <line x1=\"56\" y1=\"0\" x2=\"56\" y2=\"120\" />\n",
       "  <line x1=\"60\" y1=\"0\" x2=\"60\" y2=\"120\" />\n",
       "  <line x1=\"67\" y1=\"0\" x2=\"67\" y2=\"120\" />\n",
       "  <line x1=\"75\" y1=\"0\" x2=\"75\" y2=\"120\" />\n",
       "  <line x1=\"78\" y1=\"0\" x2=\"78\" y2=\"120\" />\n",
       "  <line x1=\"86\" y1=\"0\" x2=\"86\" y2=\"120\" />\n",
       "  <line x1=\"93\" y1=\"0\" x2=\"93\" y2=\"120\" />\n",
       "  <line x1=\"97\" y1=\"0\" x2=\"97\" y2=\"120\" />\n",
       "  <line x1=\"105\" y1=\"0\" x2=\"105\" y2=\"120\" />\n",
       "  <line x1=\"112\" y1=\"0\" x2=\"112\" y2=\"120\" />\n",
       "  <line x1=\"120\" y1=\"0\" x2=\"120\" y2=\"120\" style=\"stroke-width:2\" />\n",
       "\n",
       "  <!-- Colored Rectangle -->\n",
       "  <polygon points=\"0.0,0.0 120.0,0.0 120.0,120.0 0.0,120.0\" style=\"fill:#8B4903A0;stroke-width:0\"/>\n",
       "\n",
       "  <!-- Text -->\n",
       "  <text x=\"60.000000\" y=\"140.000000\" font-size=\"1.0rem\" font-weight=\"100\" text-anchor=\"middle\" >2048</text>\n",
       "  <text x=\"140.000000\" y=\"60.000000\" font-size=\"1.0rem\" font-weight=\"100\" text-anchor=\"middle\" transform=\"rotate(-90,140.000000,60.000000)\">2048</text>\n",
       "</svg>\n",
       "</td>\n",
       "</tr>\n",
       "</table>"
      ],
      "text/plain": [
       "dask.array<pow, shape=(2048, 2048), dtype=float64, chunksize=(64, 64), chunktype=numpy.ndarray>"
      ]
     },
     "execution_count": 3,
     "metadata": {},
     "output_type": "execute_result"
    }
   ],
   "source": [
    "# take the velocity magnitude at each location\n",
    "umag = da.linalg.norm(uvec, axis=2)\n",
    "umag"
   ]
  },
  {
   "cell_type": "markdown",
   "metadata": {},
   "source": [
    "The `norm` function computes the vector magnitude at each location, turning this into a scalar field."
   ]
  },
  {
   "cell_type": "markdown",
   "metadata": {},
   "source": [
    "### Distributed Data Structures\n",
    "\n",
    "Dask converted an input array into _chunks_ each of which can be computed on independently.\n",
    "The _norm()_ function computes the magnitude of the components at each site. Dask creates a 'task' for each data chunk.  This is __data decomposition__. The division of the data into parts defines the parallelism.  A task may be a thread or a process depending upon the runtime environment.\n",
    "\n",
    "### Lazy Evaluation\n",
    "\n",
    "But, dask has done no computation at this point. It has created a computational workflow that it will only execute when the data is actually needed.  If we ask for the description of the distributed data structure, it takes almost no time at all. "
   ]
  },
  {
   "cell_type": "code",
   "execution_count": null,
   "metadata": {},
   "outputs": [],
   "source": [
    "%%timeit\n",
    "umag"
   ]
  },
  {
   "cell_type": "markdown",
   "metadata": {},
   "source": [
    "Only when we ask it to compute the output does the work get done."
   ]
  },
  {
   "cell_type": "code",
   "execution_count": null,
   "metadata": {},
   "outputs": [],
   "source": [
    "%%timeit\n",
    "umag.compute()"
   ]
  },
  {
   "cell_type": "code",
   "execution_count": 4,
   "metadata": {},
   "outputs": [
    {
     "data": {
      "text/plain": [
       "array([[3.36865189, 3.38269484, 3.39613688, ..., 0.35552506, 0.42720882,\n",
       "        0.48777572],\n",
       "       [3.39010173, 3.40562469, 3.41906076, ..., 0.34237043, 0.41770322,\n",
       "        0.48341892],\n",
       "       [3.4141839 , 3.42888766, 3.44117541, ..., 0.33960752, 0.41539671,\n",
       "        0.48326439],\n",
       "       ...,\n",
       "       [4.40146098, 4.23910124, 4.08794059, ..., 4.04412574, 4.02879924,\n",
       "        4.01608203],\n",
       "       [4.39772538, 4.2277415 , 4.06553138, ..., 4.05115737, 4.0319129 ,\n",
       "        4.01446463],\n",
       "       [4.40407135, 4.23276965, 4.06173331, ..., 4.06355288, 4.04077055,\n",
       "        4.01843419]])"
      ]
     },
     "execution_count": 4,
     "metadata": {},
     "output_type": "execute_result"
    }
   ],
   "source": [
    "umag.compute()"
   ]
  },
  {
   "cell_type": "markdown",
   "metadata": {},
   "source": [
    "Now let's take a look at it. This is a forced isotropic turbulence flow at a Reynold's number of 433. "
   ]
  },
  {
   "cell_type": "code",
   "execution_count": null,
   "metadata": {},
   "outputs": [],
   "source": [
    "%matplotlib inline\n",
    "import matplotlib.pyplot as plt\n",
    "\n",
    "plt.figure(figsize=(10,8))\n",
    "plt.imshow(umag, cmap='viridis', interpolation='nearest')\n",
    "plt.show()"
   ]
  },
  {
   "cell_type": "markdown",
   "metadata": {},
   "source": [
    "### Execution Graphs"
   ]
  },
  {
   "cell_type": "markdown",
   "metadata": {},
   "source": [
    "For this, we'll need to work with a smaller data set.  dask builds a schedule of computation based on the partitions of data and then defines tasks."
   ]
  },
  {
   "cell_type": "code",
   "execution_count": 5,
   "metadata": {},
   "outputs": [
    {
     "data": {
      "image/png": "[encoded data removed]",
      "text/plain": [
       "<IPython.core.display.Image object>"
      ]
     },
     "execution_count": 5,
     "metadata": {},
     "output_type": "execute_result"
    }
   ],
   "source": [
    "# convert data into a dask array\n",
    "#sm_uvec = da.from_array(d[0,:,:,:], chunks=(64, 64, 3))\n",
    "sm_uvec = da.from_array(d[0,0:128,0:128,:], chunks=(64, 64, 3))\n",
    "sm_umag = da.linalg.norm(sm_uvec, axis=2)\n",
    "sm_umag.visualize()"
   ]
  },
  {
   "cell_type": "markdown",
   "metadata": {},
   "source": [
    "The goal is to compute for every cell\n",
    "\n",
    "$$\n",
    "umag =\\sqrt{{u}^2+{v}^2+{w}^2}\n",
    "$$\n",
    "\n",
    "Dask performs numpy array operations (vectorized) on each of four partitions defined by our input.  The aggregate function changes the partitioning function from three-dimensional (0,1,0) to two-dimensional (0,1). There are no data dependencies between the different computational paths.\n",
    "\n",
    "The execution graph is defined prior to the computation, we haven't done anything yet. \n",
    "\n",
    "Dask will use this execution graph to do several things:\n",
    "* __localize the computation__: if only part of the output is requested, dask computes only that portion of the graph.\n",
    "* __distribute the computation__: different nodes/paths of the graph are computed on different cores or compute nodex\n",
    "* __asynchronous scheduling__: execute parts of the graph at different time for load balancing, data reuse, resource minimization\n",
    "  * it typically makes sense to perform multiple steps in an independent path at once so that the data output by a prior step is in cache as input to the next step.\n",
    "  \n",
    "The dask tutorial has a _very nice_ visualization of a simulated extract, transform, and load (ETL) data cleaning workload.\n",
    "\n",
    "![this](images/grid_search_schedule.gif)\n",
    "\n",
    "You can see the the engine performs partitions/tasks to completion (bottom to top) before working on other partitions.  This reduces the memory footprint of the computation.\n",
    "\n",
    "It looks to me like this is running on a two-core machine, i.e. there are two parallel execution regions at the same time. With more cores, it would like more like a breadth-first traversal."
   ]
  },
  {
   "cell_type": "markdown",
   "metadata": {},
   "source": [
    "### Review of Dask Concepts\n",
    "\n",
    "* Distributed data structures: data is partitioned into chunks that can be operated on independenlty and in parallel. Dask operators output chunked data (whenever possible) to serve as the input to the next parallel step.\n",
    "* Lazy evaluation: when operations are defined, dask builds an execution graph.  Dask schedules computation on that graph only when the outputs are requested, typically by calling compute()."
   ]
  },
  {
   "cell_type": "code",
   "execution_count": null,
   "metadata": {},
   "outputs": [],
   "source": []
  }
 ],
 "metadata": {
  "kernelspec": {
   "display_name": "Python 3.8.12 ('torch_env')",
   "language": "python",
   "name": "python3"
  },
  "language_info": {
   "codemirror_mode": {
    "name": "ipython",
    "version": 3
   },
   "file_extension": ".py",
   "mimetype": "text/x-python",
   "name": "python",
   "nbconvert_exporter": "python",
   "pygments_lexer": "ipython3",
   "version": "3.8.12"
  },
  "vscode": {
   "interpreter": {
    "hash": "d2f5aadf8616fef8483d1d8eaf10e2f3ddd8174aba0db51bea9088b5d3c50d3c"
   }
  }
 },
 "nbformat": 4,
 "nbformat_minor": 4
}
